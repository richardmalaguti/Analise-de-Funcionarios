{
 "cells": [
  {
   "cell_type": "markdown",
   "id": "3f2c0464-15fc-43f8-938f-ad6f75fcbe9f",
   "metadata": {},
   "source": [
    "# ETL - Processo feito antes de extrair para o Power BI."
   ]
  },
  {
   "cell_type": "markdown",
   "id": "a08d99cf-ab0c-4354-b2c7-0af21c2865ba",
   "metadata": {},
   "source": [
    "## Exploração dos Dados"
   ]
  },
  {
   "cell_type": "code",
   "execution_count": 1,
   "id": "81dd36dc-51ec-47fb-9893-ec1ef70510a4",
   "metadata": {},
   "outputs": [],
   "source": [
    "import pandas as pd\n",
    "import numpy as np"
   ]
  },
  {
   "cell_type": "code",
   "execution_count": 2,
   "id": "9e98541b-fd2d-478f-9373-7ffacc9e4136",
   "metadata": {},
   "outputs": [
    {
     "data": {
      "text/plain": [
       "'2.2.2'"
      ]
     },
     "execution_count": 2,
     "metadata": {},
     "output_type": "execute_result"
    }
   ],
   "source": [
    "pd.__version__"
   ]
  },
  {
   "cell_type": "code",
   "execution_count": 3,
   "id": "e4fc0113-4553-445e-b26c-158c3e2b7fae",
   "metadata": {},
   "outputs": [],
   "source": [
    "df = pd.read_csv('Dataset_Performance_Funcionarios.csv')"
   ]
  },
  {
   "cell_type": "code",
   "execution_count": 4,
   "id": "89f26d17-b148-4512-9cf7-62e576407514",
   "metadata": {},
   "outputs": [
    {
     "data": {
      "text/html": [
       "<div>\n",
       "<style scoped>\n",
       "    .dataframe tbody tr th:only-of-type {\n",
       "        vertical-align: middle;\n",
       "    }\n",
       "\n",
       "    .dataframe tbody tr th {\n",
       "        vertical-align: top;\n",
       "    }\n",
       "\n",
       "    .dataframe thead th {\n",
       "        text-align: right;\n",
       "    }\n",
       "</style>\n",
       "<table border=\"1\" class=\"dataframe\">\n",
       "  <thead>\n",
       "    <tr style=\"text-align: right;\">\n",
       "      <th></th>\n",
       "      <th>ID</th>\n",
       "      <th>Name</th>\n",
       "      <th>Age</th>\n",
       "      <th>Gender</th>\n",
       "      <th>Department</th>\n",
       "      <th>Salary</th>\n",
       "      <th>Joining Date</th>\n",
       "      <th>Performance Score</th>\n",
       "      <th>Experience</th>\n",
       "      <th>Status</th>\n",
       "      <th>Location</th>\n",
       "      <th>Session</th>\n",
       "    </tr>\n",
       "  </thead>\n",
       "  <tbody>\n",
       "    <tr>\n",
       "      <th>0</th>\n",
       "      <td>1</td>\n",
       "      <td>Cory Escobar</td>\n",
       "      <td>48</td>\n",
       "      <td>Female</td>\n",
       "      <td>HR</td>\n",
       "      <td>5641</td>\n",
       "      <td>2015-05-03</td>\n",
       "      <td>2.0</td>\n",
       "      <td>16</td>\n",
       "      <td>Active</td>\n",
       "      <td>New York</td>\n",
       "      <td>Night</td>\n",
       "    </tr>\n",
       "    <tr>\n",
       "      <th>1</th>\n",
       "      <td>2</td>\n",
       "      <td>Timothy Sanchez</td>\n",
       "      <td>25</td>\n",
       "      <td>Other</td>\n",
       "      <td>Sales</td>\n",
       "      <td>4249</td>\n",
       "      <td>2020-11-09</td>\n",
       "      <td>2.0</td>\n",
       "      <td>11</td>\n",
       "      <td>Inactive</td>\n",
       "      <td>Los Angeles</td>\n",
       "      <td>Evening</td>\n",
       "    </tr>\n",
       "    <tr>\n",
       "      <th>2</th>\n",
       "      <td>3</td>\n",
       "      <td>Chad Nichols</td>\n",
       "      <td>57</td>\n",
       "      <td>Other</td>\n",
       "      <td>Sales</td>\n",
       "      <td>3058</td>\n",
       "      <td>2019-02-12</td>\n",
       "      <td>NaN</td>\n",
       "      <td>1</td>\n",
       "      <td>Inactive</td>\n",
       "      <td>New York</td>\n",
       "      <td>Morning</td>\n",
       "    </tr>\n",
       "    <tr>\n",
       "      <th>3</th>\n",
       "      <td>4</td>\n",
       "      <td>Christine Williams</td>\n",
       "      <td>58</td>\n",
       "      <td>Female</td>\n",
       "      <td>IT</td>\n",
       "      <td>5895</td>\n",
       "      <td>2017-09-08</td>\n",
       "      <td>2.0</td>\n",
       "      <td>13</td>\n",
       "      <td>Inactive</td>\n",
       "      <td>Los Angeles</td>\n",
       "      <td>Evening</td>\n",
       "    </tr>\n",
       "    <tr>\n",
       "      <th>4</th>\n",
       "      <td>5</td>\n",
       "      <td>Amber Harris</td>\n",
       "      <td>35</td>\n",
       "      <td>Other</td>\n",
       "      <td>IT</td>\n",
       "      <td>4317</td>\n",
       "      <td>2020-02-15</td>\n",
       "      <td>5.0</td>\n",
       "      <td>16</td>\n",
       "      <td>Inactive</td>\n",
       "      <td>New York</td>\n",
       "      <td>Evening</td>\n",
       "    </tr>\n",
       "  </tbody>\n",
       "</table>\n",
       "</div>"
      ],
      "text/plain": [
       "   ID                Name  Age  Gender Department  Salary Joining Date  \\\n",
       "0   1        Cory Escobar   48  Female         HR    5641   2015-05-03   \n",
       "1   2     Timothy Sanchez   25   Other      Sales    4249   2020-11-09   \n",
       "2   3        Chad Nichols   57   Other      Sales    3058   2019-02-12   \n",
       "3   4  Christine Williams   58  Female         IT    5895   2017-09-08   \n",
       "4   5        Amber Harris   35   Other         IT    4317   2020-02-15   \n",
       "\n",
       "   Performance Score  Experience    Status     Location  Session  \n",
       "0                2.0          16    Active     New York    Night  \n",
       "1                2.0          11  Inactive  Los Angeles  Evening  \n",
       "2                NaN           1  Inactive     New York  Morning  \n",
       "3                2.0          13  Inactive  Los Angeles  Evening  \n",
       "4                5.0          16  Inactive     New York  Evening  "
      ]
     },
     "execution_count": 4,
     "metadata": {},
     "output_type": "execute_result"
    }
   ],
   "source": [
    "df.head()"
   ]
  },
  {
   "cell_type": "code",
   "execution_count": 5,
   "id": "a97791bf-1e2d-430b-9f41-95786808c058",
   "metadata": {},
   "outputs": [
    {
     "data": {
      "text/plain": [
       "ID                     0\n",
       "Name                   0\n",
       "Age                    0\n",
       "Gender                 0\n",
       "Department             0\n",
       "Salary                 0\n",
       "Joining Date           0\n",
       "Performance Score    498\n",
       "Experience             0\n",
       "Status                 0\n",
       "Location               0\n",
       "Session                0\n",
       "dtype: int64"
      ]
     },
     "execution_count": 5,
     "metadata": {},
     "output_type": "execute_result"
    }
   ],
   "source": [
    "df.isna().sum()"
   ]
  },
  {
   "cell_type": "code",
   "execution_count": 6,
   "id": "66cf9714-897f-4dcb-be26-b1d7637dc883",
   "metadata": {},
   "outputs": [
    {
     "name": "stdout",
     "output_type": "stream",
     "text": [
      "<class 'pandas.core.frame.DataFrame'>\n",
      "RangeIndex: 1000 entries, 0 to 999\n",
      "Data columns (total 12 columns):\n",
      " #   Column             Non-Null Count  Dtype  \n",
      "---  ------             --------------  -----  \n",
      " 0   ID                 1000 non-null   int64  \n",
      " 1   Name               1000 non-null   object \n",
      " 2   Age                1000 non-null   int64  \n",
      " 3   Gender             1000 non-null   object \n",
      " 4   Department         1000 non-null   object \n",
      " 5   Salary             1000 non-null   int64  \n",
      " 6   Joining Date       1000 non-null   object \n",
      " 7   Performance Score  502 non-null    float64\n",
      " 8   Experience         1000 non-null   int64  \n",
      " 9   Status             1000 non-null   object \n",
      " 10  Location           1000 non-null   object \n",
      " 11  Session            1000 non-null   object \n",
      "dtypes: float64(1), int64(4), object(7)\n",
      "memory usage: 93.9+ KB\n"
     ]
    }
   ],
   "source": [
    "df.info()"
   ]
  },
  {
   "cell_type": "code",
   "execution_count": 7,
   "id": "46933876-d6af-495a-b863-34c82b3af335",
   "metadata": {},
   "outputs": [
    {
     "data": {
      "text/plain": [
       "(1000, 12)"
      ]
     },
     "execution_count": 7,
     "metadata": {},
     "output_type": "execute_result"
    }
   ],
   "source": [
    "df.shape"
   ]
  },
  {
   "cell_type": "code",
   "execution_count": 8,
   "id": "48685fa7-0b11-4698-ba61-680d05a0e44f",
   "metadata": {},
   "outputs": [
    {
     "data": {
      "text/plain": [
       "0"
      ]
     },
     "execution_count": 8,
     "metadata": {},
     "output_type": "execute_result"
    }
   ],
   "source": [
    "df.duplicated().sum()"
   ]
  },
  {
   "cell_type": "code",
   "execution_count": 9,
   "id": "d5637a6c-42b3-414d-b36f-6640c96c1140",
   "metadata": {},
   "outputs": [
    {
     "data": {
      "text/plain": [
       "8"
      ]
     },
     "execution_count": 9,
     "metadata": {},
     "output_type": "execute_result"
    }
   ],
   "source": [
    "df['Name'].duplicated().sum()"
   ]
  },
  {
   "cell_type": "code",
   "execution_count": 10,
   "id": "f5aef0af-e682-4095-b554-aad2345a8928",
   "metadata": {},
   "outputs": [
    {
     "data": {
      "text/plain": [
       "0"
      ]
     },
     "execution_count": 10,
     "metadata": {},
     "output_type": "execute_result"
    }
   ],
   "source": [
    "df['ID'].duplicated().sum()"
   ]
  },
  {
   "cell_type": "markdown",
   "id": "bfa3530e-a80f-48c5-86f2-5d4da8dde2be",
   "metadata": {},
   "source": [
    "## Correção de Erros"
   ]
  },
  {
   "cell_type": "code",
   "execution_count": 11,
   "id": "1a0e95a2-bd49-47d3-afe6-1da29870d4ab",
   "metadata": {},
   "outputs": [],
   "source": [
    "object_columns = df.select_dtypes(include = ['object']).columns\n",
    "\n",
    "df[object_columns] = df[object_columns].astype(pd.StringDtype())"
   ]
  },
  {
   "cell_type": "code",
   "execution_count": 12,
   "id": "9dbb5e8e-12cb-4630-b43c-9c61d6e6e542",
   "metadata": {},
   "outputs": [],
   "source": [
    "df['Performance Score'] = df['Performance Score'].fillna(df['Performance Score'].median())"
   ]
  },
  {
   "cell_type": "code",
   "execution_count": 13,
   "id": "009d1ff3-8338-477d-92bf-cdb6bcb204ad",
   "metadata": {},
   "outputs": [],
   "source": [
    "df['Joining Date'] = pd.to_datetime(df['Joining Date'])"
   ]
  },
  {
   "cell_type": "code",
   "execution_count": 14,
   "id": "45f3de65-4cc1-4aab-8cc9-392628921d5c",
   "metadata": {},
   "outputs": [],
   "source": [
    "df = df[df['Experience'] <= df['Age'] - 14]"
   ]
  },
  {
   "cell_type": "markdown",
   "id": "9648db4d-7b5e-487e-8837-cb0a8844588d",
   "metadata": {},
   "source": [
    "## Inserindo Dados ao DataFrame"
   ]
  },
  {
   "cell_type": "code",
   "execution_count": 15,
   "id": "571faea3-897e-4e2e-b688-f3b62ebcd07b",
   "metadata": {},
   "outputs": [
    {
     "data": {
      "text/plain": [
       "(2015, 9993, 1, 20)"
      ]
     },
     "execution_count": 15,
     "metadata": {},
     "output_type": "execute_result"
    }
   ],
   "source": [
    "min(df['Salary']), max(df['Salary']), min(df['Experience']), max(df['Experience'])"
   ]
  },
  {
   "cell_type": "code",
   "execution_count": 16,
   "id": "4d8019b4-936a-448d-b670-8cd568433a91",
   "metadata": {},
   "outputs": [],
   "source": [
    "df['Age_Group'] = ''\n",
    "df.loc[(df['Age'] <= 30), 'Age_Group'] = 'Young'\n",
    "df.loc[(df['Age'] > 30) & (df['Age'] <= 55), 'Age_Group'] = 'Middle-Age'\n",
    "df.loc[(df['Age'] > 55), 'Age_Group'] = 'High-Age'"
   ]
  },
  {
   "cell_type": "code",
   "execution_count": 17,
   "id": "c293aaa6-c4a9-4bdc-a990-3abb1e4a9657",
   "metadata": {},
   "outputs": [],
   "source": [
    "df['Experience_Level'] = ''\n",
    "df.loc[(df['Experience'] <= 5), 'Experience_Level'] = 'Junior'\n",
    "df.loc[(df['Experience'] > 5) & (df['Experience'] <= 12), 'Experience_Level'] = 'Pleno'\n",
    "df.loc[(df['Experience'] > 12) & (df['Experience'] <= max(df['Experience'])), 'Experience_Level'] = 'Sênior'"
   ]
  },
  {
   "cell_type": "code",
   "execution_count": 18,
   "id": "79eb3191-8a5f-47dd-a2bc-bc517226c6dd",
   "metadata": {},
   "outputs": [
    {
     "data": {
      "text/html": [
       "<div>\n",
       "<style scoped>\n",
       "    .dataframe tbody tr th:only-of-type {\n",
       "        vertical-align: middle;\n",
       "    }\n",
       "\n",
       "    .dataframe tbody tr th {\n",
       "        vertical-align: top;\n",
       "    }\n",
       "\n",
       "    .dataframe thead th {\n",
       "        text-align: right;\n",
       "    }\n",
       "</style>\n",
       "<table border=\"1\" class=\"dataframe\">\n",
       "  <thead>\n",
       "    <tr style=\"text-align: right;\">\n",
       "      <th></th>\n",
       "      <th>ID</th>\n",
       "      <th>Name</th>\n",
       "      <th>Age</th>\n",
       "      <th>Gender</th>\n",
       "      <th>Department</th>\n",
       "      <th>Salary</th>\n",
       "      <th>Joining Date</th>\n",
       "      <th>Performance Score</th>\n",
       "      <th>Experience</th>\n",
       "      <th>Status</th>\n",
       "      <th>Location</th>\n",
       "      <th>Session</th>\n",
       "      <th>Age_Group</th>\n",
       "      <th>Experience_Level</th>\n",
       "    </tr>\n",
       "  </thead>\n",
       "  <tbody>\n",
       "    <tr>\n",
       "      <th>0</th>\n",
       "      <td>1</td>\n",
       "      <td>Cory Escobar</td>\n",
       "      <td>48</td>\n",
       "      <td>Female</td>\n",
       "      <td>HR</td>\n",
       "      <td>5641</td>\n",
       "      <td>2015-05-03</td>\n",
       "      <td>2.0</td>\n",
       "      <td>16</td>\n",
       "      <td>Active</td>\n",
       "      <td>New York</td>\n",
       "      <td>Night</td>\n",
       "      <td>Middle-Age</td>\n",
       "      <td>Sênior</td>\n",
       "    </tr>\n",
       "    <tr>\n",
       "      <th>1</th>\n",
       "      <td>2</td>\n",
       "      <td>Timothy Sanchez</td>\n",
       "      <td>25</td>\n",
       "      <td>Other</td>\n",
       "      <td>Sales</td>\n",
       "      <td>4249</td>\n",
       "      <td>2020-11-09</td>\n",
       "      <td>2.0</td>\n",
       "      <td>11</td>\n",
       "      <td>Inactive</td>\n",
       "      <td>Los Angeles</td>\n",
       "      <td>Evening</td>\n",
       "      <td>Young</td>\n",
       "      <td>Pleno</td>\n",
       "    </tr>\n",
       "    <tr>\n",
       "      <th>2</th>\n",
       "      <td>3</td>\n",
       "      <td>Chad Nichols</td>\n",
       "      <td>57</td>\n",
       "      <td>Other</td>\n",
       "      <td>Sales</td>\n",
       "      <td>3058</td>\n",
       "      <td>2019-02-12</td>\n",
       "      <td>3.0</td>\n",
       "      <td>1</td>\n",
       "      <td>Inactive</td>\n",
       "      <td>New York</td>\n",
       "      <td>Morning</td>\n",
       "      <td>High-Age</td>\n",
       "      <td>Junior</td>\n",
       "    </tr>\n",
       "    <tr>\n",
       "      <th>3</th>\n",
       "      <td>4</td>\n",
       "      <td>Christine Williams</td>\n",
       "      <td>58</td>\n",
       "      <td>Female</td>\n",
       "      <td>IT</td>\n",
       "      <td>5895</td>\n",
       "      <td>2017-09-08</td>\n",
       "      <td>2.0</td>\n",
       "      <td>13</td>\n",
       "      <td>Inactive</td>\n",
       "      <td>Los Angeles</td>\n",
       "      <td>Evening</td>\n",
       "      <td>High-Age</td>\n",
       "      <td>Sênior</td>\n",
       "    </tr>\n",
       "    <tr>\n",
       "      <th>4</th>\n",
       "      <td>5</td>\n",
       "      <td>Amber Harris</td>\n",
       "      <td>35</td>\n",
       "      <td>Other</td>\n",
       "      <td>IT</td>\n",
       "      <td>4317</td>\n",
       "      <td>2020-02-15</td>\n",
       "      <td>5.0</td>\n",
       "      <td>16</td>\n",
       "      <td>Inactive</td>\n",
       "      <td>New York</td>\n",
       "      <td>Evening</td>\n",
       "      <td>Middle-Age</td>\n",
       "      <td>Sênior</td>\n",
       "    </tr>\n",
       "  </tbody>\n",
       "</table>\n",
       "</div>"
      ],
      "text/plain": [
       "   ID                Name  Age  Gender Department  Salary Joining Date  \\\n",
       "0   1        Cory Escobar   48  Female         HR    5641   2015-05-03   \n",
       "1   2     Timothy Sanchez   25   Other      Sales    4249   2020-11-09   \n",
       "2   3        Chad Nichols   57   Other      Sales    3058   2019-02-12   \n",
       "3   4  Christine Williams   58  Female         IT    5895   2017-09-08   \n",
       "4   5        Amber Harris   35   Other         IT    4317   2020-02-15   \n",
       "\n",
       "   Performance Score  Experience    Status     Location  Session   Age_Group  \\\n",
       "0                2.0          16    Active     New York    Night  Middle-Age   \n",
       "1                2.0          11  Inactive  Los Angeles  Evening       Young   \n",
       "2                3.0           1  Inactive     New York  Morning    High-Age   \n",
       "3                2.0          13  Inactive  Los Angeles  Evening    High-Age   \n",
       "4                5.0          16  Inactive     New York  Evening  Middle-Age   \n",
       "\n",
       "  Experience_Level  \n",
       "0           Sênior  \n",
       "1            Pleno  \n",
       "2           Junior  \n",
       "3           Sênior  \n",
       "4           Sênior  "
      ]
     },
     "execution_count": 18,
     "metadata": {},
     "output_type": "execute_result"
    }
   ],
   "source": [
    "df.head()"
   ]
  },
  {
   "cell_type": "code",
   "execution_count": 19,
   "id": "d637e950-6132-461d-986d-b70e2a354926",
   "metadata": {},
   "outputs": [
    {
     "data": {
      "text/html": [
       "<div>\n",
       "<style scoped>\n",
       "    .dataframe tbody tr th:only-of-type {\n",
       "        vertical-align: middle;\n",
       "    }\n",
       "\n",
       "    .dataframe tbody tr th {\n",
       "        vertical-align: top;\n",
       "    }\n",
       "\n",
       "    .dataframe thead th {\n",
       "        text-align: right;\n",
       "    }\n",
       "</style>\n",
       "<table border=\"1\" class=\"dataframe\">\n",
       "  <thead>\n",
       "    <tr style=\"text-align: right;\">\n",
       "      <th></th>\n",
       "      <th>ID</th>\n",
       "      <th>Name</th>\n",
       "      <th>Age</th>\n",
       "      <th>Gender</th>\n",
       "      <th>Department</th>\n",
       "      <th>Salary</th>\n",
       "      <th>Joining Date</th>\n",
       "      <th>Performance Score</th>\n",
       "      <th>Experience</th>\n",
       "      <th>Status</th>\n",
       "      <th>Location</th>\n",
       "      <th>Session</th>\n",
       "      <th>Age_Group</th>\n",
       "      <th>Experience_Level</th>\n",
       "    </tr>\n",
       "  </thead>\n",
       "  <tbody>\n",
       "    <tr>\n",
       "      <th>20</th>\n",
       "      <td>21</td>\n",
       "      <td>Heather Jones</td>\n",
       "      <td>35</td>\n",
       "      <td>Male</td>\n",
       "      <td>Sales</td>\n",
       "      <td>4565</td>\n",
       "      <td>2018-02-07</td>\n",
       "      <td>3.0</td>\n",
       "      <td>9</td>\n",
       "      <td>Active</td>\n",
       "      <td>Chicago</td>\n",
       "      <td>Night</td>\n",
       "      <td>Middle-Age</td>\n",
       "      <td>Pleno</td>\n",
       "    </tr>\n",
       "    <tr>\n",
       "      <th>154</th>\n",
       "      <td>155</td>\n",
       "      <td>Larry Johnson</td>\n",
       "      <td>63</td>\n",
       "      <td>Other</td>\n",
       "      <td>IT</td>\n",
       "      <td>5746</td>\n",
       "      <td>2018-11-20</td>\n",
       "      <td>5.0</td>\n",
       "      <td>5</td>\n",
       "      <td>Inactive</td>\n",
       "      <td>New York</td>\n",
       "      <td>Night</td>\n",
       "      <td>High-Age</td>\n",
       "      <td>Junior</td>\n",
       "    </tr>\n",
       "    <tr>\n",
       "      <th>319</th>\n",
       "      <td>320</td>\n",
       "      <td>Elizabeth Dudley</td>\n",
       "      <td>58</td>\n",
       "      <td>Other</td>\n",
       "      <td>IT</td>\n",
       "      <td>6233</td>\n",
       "      <td>2024-04-30</td>\n",
       "      <td>1.0</td>\n",
       "      <td>1</td>\n",
       "      <td>Inactive</td>\n",
       "      <td>Los Angeles</td>\n",
       "      <td>Morning</td>\n",
       "      <td>High-Age</td>\n",
       "      <td>Junior</td>\n",
       "    </tr>\n",
       "    <tr>\n",
       "      <th>391</th>\n",
       "      <td>392</td>\n",
       "      <td>Heather Jones</td>\n",
       "      <td>32</td>\n",
       "      <td>Female</td>\n",
       "      <td>HR</td>\n",
       "      <td>6309</td>\n",
       "      <td>2023-03-25</td>\n",
       "      <td>5.0</td>\n",
       "      <td>5</td>\n",
       "      <td>Active</td>\n",
       "      <td>Los Angeles</td>\n",
       "      <td>Evening</td>\n",
       "      <td>Middle-Age</td>\n",
       "      <td>Junior</td>\n",
       "    </tr>\n",
       "    <tr>\n",
       "      <th>426</th>\n",
       "      <td>427</td>\n",
       "      <td>Patricia Scott</td>\n",
       "      <td>52</td>\n",
       "      <td>Male</td>\n",
       "      <td>HR</td>\n",
       "      <td>2041</td>\n",
       "      <td>2022-11-22</td>\n",
       "      <td>1.0</td>\n",
       "      <td>8</td>\n",
       "      <td>Inactive</td>\n",
       "      <td>Chicago</td>\n",
       "      <td>Evening</td>\n",
       "      <td>Middle-Age</td>\n",
       "      <td>Pleno</td>\n",
       "    </tr>\n",
       "    <tr>\n",
       "      <th>537</th>\n",
       "      <td>538</td>\n",
       "      <td>Kimberly Burke</td>\n",
       "      <td>20</td>\n",
       "      <td>Male</td>\n",
       "      <td>IT</td>\n",
       "      <td>2492</td>\n",
       "      <td>2016-09-25</td>\n",
       "      <td>3.0</td>\n",
       "      <td>3</td>\n",
       "      <td>Inactive</td>\n",
       "      <td>Los Angeles</td>\n",
       "      <td>Morning</td>\n",
       "      <td>Young</td>\n",
       "      <td>Junior</td>\n",
       "    </tr>\n",
       "    <tr>\n",
       "      <th>613</th>\n",
       "      <td>614</td>\n",
       "      <td>Elizabeth Dudley</td>\n",
       "      <td>64</td>\n",
       "      <td>Other</td>\n",
       "      <td>HR</td>\n",
       "      <td>5152</td>\n",
       "      <td>2019-05-05</td>\n",
       "      <td>3.0</td>\n",
       "      <td>15</td>\n",
       "      <td>Active</td>\n",
       "      <td>New York</td>\n",
       "      <td>Night</td>\n",
       "      <td>High-Age</td>\n",
       "      <td>Sênior</td>\n",
       "    </tr>\n",
       "    <tr>\n",
       "      <th>629</th>\n",
       "      <td>630</td>\n",
       "      <td>Patricia Scott</td>\n",
       "      <td>52</td>\n",
       "      <td>Other</td>\n",
       "      <td>Sales</td>\n",
       "      <td>9364</td>\n",
       "      <td>2019-11-05</td>\n",
       "      <td>3.0</td>\n",
       "      <td>5</td>\n",
       "      <td>Active</td>\n",
       "      <td>New York</td>\n",
       "      <td>Evening</td>\n",
       "      <td>Middle-Age</td>\n",
       "      <td>Junior</td>\n",
       "    </tr>\n",
       "    <tr>\n",
       "      <th>907</th>\n",
       "      <td>908</td>\n",
       "      <td>Kimberly Burke</td>\n",
       "      <td>59</td>\n",
       "      <td>Female</td>\n",
       "      <td>Sales</td>\n",
       "      <td>5628</td>\n",
       "      <td>2016-10-08</td>\n",
       "      <td>3.0</td>\n",
       "      <td>4</td>\n",
       "      <td>Inactive</td>\n",
       "      <td>Chicago</td>\n",
       "      <td>Evening</td>\n",
       "      <td>High-Age</td>\n",
       "      <td>Junior</td>\n",
       "    </tr>\n",
       "    <tr>\n",
       "      <th>977</th>\n",
       "      <td>978</td>\n",
       "      <td>Larry Johnson</td>\n",
       "      <td>24</td>\n",
       "      <td>Other</td>\n",
       "      <td>Sales</td>\n",
       "      <td>5081</td>\n",
       "      <td>2020-10-30</td>\n",
       "      <td>3.0</td>\n",
       "      <td>7</td>\n",
       "      <td>Inactive</td>\n",
       "      <td>New York</td>\n",
       "      <td>Morning</td>\n",
       "      <td>Young</td>\n",
       "      <td>Pleno</td>\n",
       "    </tr>\n",
       "  </tbody>\n",
       "</table>\n",
       "</div>"
      ],
      "text/plain": [
       "      ID              Name  Age  Gender Department  Salary Joining Date  \\\n",
       "20    21     Heather Jones   35    Male      Sales    4565   2018-02-07   \n",
       "154  155     Larry Johnson   63   Other         IT    5746   2018-11-20   \n",
       "319  320  Elizabeth Dudley   58   Other         IT    6233   2024-04-30   \n",
       "391  392     Heather Jones   32  Female         HR    6309   2023-03-25   \n",
       "426  427    Patricia Scott   52    Male         HR    2041   2022-11-22   \n",
       "537  538    Kimberly Burke   20    Male         IT    2492   2016-09-25   \n",
       "613  614  Elizabeth Dudley   64   Other         HR    5152   2019-05-05   \n",
       "629  630    Patricia Scott   52   Other      Sales    9364   2019-11-05   \n",
       "907  908    Kimberly Burke   59  Female      Sales    5628   2016-10-08   \n",
       "977  978     Larry Johnson   24   Other      Sales    5081   2020-10-30   \n",
       "\n",
       "     Performance Score  Experience    Status     Location  Session  \\\n",
       "20                 3.0           9    Active      Chicago    Night   \n",
       "154                5.0           5  Inactive     New York    Night   \n",
       "319                1.0           1  Inactive  Los Angeles  Morning   \n",
       "391                5.0           5    Active  Los Angeles  Evening   \n",
       "426                1.0           8  Inactive      Chicago  Evening   \n",
       "537                3.0           3  Inactive  Los Angeles  Morning   \n",
       "613                3.0          15    Active     New York    Night   \n",
       "629                3.0           5    Active     New York  Evening   \n",
       "907                3.0           4  Inactive      Chicago  Evening   \n",
       "977                3.0           7  Inactive     New York  Morning   \n",
       "\n",
       "      Age_Group Experience_Level  \n",
       "20   Middle-Age            Pleno  \n",
       "154    High-Age           Junior  \n",
       "319    High-Age           Junior  \n",
       "391  Middle-Age           Junior  \n",
       "426  Middle-Age            Pleno  \n",
       "537       Young           Junior  \n",
       "613    High-Age           Sênior  \n",
       "629  Middle-Age           Junior  \n",
       "907    High-Age           Junior  \n",
       "977       Young            Pleno  "
      ]
     },
     "execution_count": 19,
     "metadata": {},
     "output_type": "execute_result"
    }
   ],
   "source": [
    "df[df.duplicated(subset = 'Name', keep = False)]"
   ]
  },
  {
   "cell_type": "markdown",
   "id": "4f237238-e254-439e-a9c6-0c5383747a35",
   "metadata": {},
   "source": [
    "## Últimas Consultas após o ETL"
   ]
  },
  {
   "cell_type": "code",
   "execution_count": 20,
   "id": "e509585d-7103-4ea0-9ce2-4d310f26d084",
   "metadata": {},
   "outputs": [
    {
     "data": {
      "text/html": [
       "<div>\n",
       "<style scoped>\n",
       "    .dataframe tbody tr th:only-of-type {\n",
       "        vertical-align: middle;\n",
       "    }\n",
       "\n",
       "    .dataframe tbody tr th {\n",
       "        vertical-align: top;\n",
       "    }\n",
       "\n",
       "    .dataframe thead th {\n",
       "        text-align: right;\n",
       "    }\n",
       "</style>\n",
       "<table border=\"1\" class=\"dataframe\">\n",
       "  <thead>\n",
       "    <tr style=\"text-align: right;\">\n",
       "      <th></th>\n",
       "      <th>ID</th>\n",
       "      <th>Name</th>\n",
       "      <th>Age</th>\n",
       "      <th>Gender</th>\n",
       "      <th>Department</th>\n",
       "      <th>Salary</th>\n",
       "      <th>Joining Date</th>\n",
       "      <th>Performance Score</th>\n",
       "      <th>Experience</th>\n",
       "      <th>Status</th>\n",
       "      <th>Location</th>\n",
       "      <th>Session</th>\n",
       "      <th>Age_Group</th>\n",
       "      <th>Experience_Level</th>\n",
       "    </tr>\n",
       "  </thead>\n",
       "  <tbody>\n",
       "    <tr>\n",
       "      <th>0</th>\n",
       "      <td>1</td>\n",
       "      <td>Cory Escobar</td>\n",
       "      <td>48</td>\n",
       "      <td>Female</td>\n",
       "      <td>HR</td>\n",
       "      <td>5641</td>\n",
       "      <td>2015-05-03</td>\n",
       "      <td>2.0</td>\n",
       "      <td>16</td>\n",
       "      <td>Active</td>\n",
       "      <td>New York</td>\n",
       "      <td>Night</td>\n",
       "      <td>Middle-Age</td>\n",
       "      <td>Sênior</td>\n",
       "    </tr>\n",
       "    <tr>\n",
       "      <th>1</th>\n",
       "      <td>2</td>\n",
       "      <td>Timothy Sanchez</td>\n",
       "      <td>25</td>\n",
       "      <td>Other</td>\n",
       "      <td>Sales</td>\n",
       "      <td>4249</td>\n",
       "      <td>2020-11-09</td>\n",
       "      <td>2.0</td>\n",
       "      <td>11</td>\n",
       "      <td>Inactive</td>\n",
       "      <td>Los Angeles</td>\n",
       "      <td>Evening</td>\n",
       "      <td>Young</td>\n",
       "      <td>Pleno</td>\n",
       "    </tr>\n",
       "    <tr>\n",
       "      <th>2</th>\n",
       "      <td>3</td>\n",
       "      <td>Chad Nichols</td>\n",
       "      <td>57</td>\n",
       "      <td>Other</td>\n",
       "      <td>Sales</td>\n",
       "      <td>3058</td>\n",
       "      <td>2019-02-12</td>\n",
       "      <td>3.0</td>\n",
       "      <td>1</td>\n",
       "      <td>Inactive</td>\n",
       "      <td>New York</td>\n",
       "      <td>Morning</td>\n",
       "      <td>High-Age</td>\n",
       "      <td>Junior</td>\n",
       "    </tr>\n",
       "    <tr>\n",
       "      <th>3</th>\n",
       "      <td>4</td>\n",
       "      <td>Christine Williams</td>\n",
       "      <td>58</td>\n",
       "      <td>Female</td>\n",
       "      <td>IT</td>\n",
       "      <td>5895</td>\n",
       "      <td>2017-09-08</td>\n",
       "      <td>2.0</td>\n",
       "      <td>13</td>\n",
       "      <td>Inactive</td>\n",
       "      <td>Los Angeles</td>\n",
       "      <td>Evening</td>\n",
       "      <td>High-Age</td>\n",
       "      <td>Sênior</td>\n",
       "    </tr>\n",
       "    <tr>\n",
       "      <th>4</th>\n",
       "      <td>5</td>\n",
       "      <td>Amber Harris</td>\n",
       "      <td>35</td>\n",
       "      <td>Other</td>\n",
       "      <td>IT</td>\n",
       "      <td>4317</td>\n",
       "      <td>2020-02-15</td>\n",
       "      <td>5.0</td>\n",
       "      <td>16</td>\n",
       "      <td>Inactive</td>\n",
       "      <td>New York</td>\n",
       "      <td>Evening</td>\n",
       "      <td>Middle-Age</td>\n",
       "      <td>Sênior</td>\n",
       "    </tr>\n",
       "  </tbody>\n",
       "</table>\n",
       "</div>"
      ],
      "text/plain": [
       "   ID                Name  Age  Gender Department  Salary Joining Date  \\\n",
       "0   1        Cory Escobar   48  Female         HR    5641   2015-05-03   \n",
       "1   2     Timothy Sanchez   25   Other      Sales    4249   2020-11-09   \n",
       "2   3        Chad Nichols   57   Other      Sales    3058   2019-02-12   \n",
       "3   4  Christine Williams   58  Female         IT    5895   2017-09-08   \n",
       "4   5        Amber Harris   35   Other         IT    4317   2020-02-15   \n",
       "\n",
       "   Performance Score  Experience    Status     Location  Session   Age_Group  \\\n",
       "0                2.0          16    Active     New York    Night  Middle-Age   \n",
       "1                2.0          11  Inactive  Los Angeles  Evening       Young   \n",
       "2                3.0           1  Inactive     New York  Morning    High-Age   \n",
       "3                2.0          13  Inactive  Los Angeles  Evening    High-Age   \n",
       "4                5.0          16  Inactive     New York  Evening  Middle-Age   \n",
       "\n",
       "  Experience_Level  \n",
       "0           Sênior  \n",
       "1            Pleno  \n",
       "2           Junior  \n",
       "3           Sênior  \n",
       "4           Sênior  "
      ]
     },
     "execution_count": 20,
     "metadata": {},
     "output_type": "execute_result"
    }
   ],
   "source": [
    "df.head()"
   ]
  },
  {
   "cell_type": "code",
   "execution_count": 21,
   "id": "6758cca3-2862-4a5b-bc7d-afd8fa051b48",
   "metadata": {},
   "outputs": [
    {
     "name": "stdout",
     "output_type": "stream",
     "text": [
      "<class 'pandas.core.frame.DataFrame'>\n",
      "Index: 841 entries, 0 to 999\n",
      "Data columns (total 14 columns):\n",
      " #   Column             Non-Null Count  Dtype         \n",
      "---  ------             --------------  -----         \n",
      " 0   ID                 841 non-null    int64         \n",
      " 1   Name               841 non-null    string        \n",
      " 2   Age                841 non-null    int64         \n",
      " 3   Gender             841 non-null    string        \n",
      " 4   Department         841 non-null    string        \n",
      " 5   Salary             841 non-null    int64         \n",
      " 6   Joining Date       841 non-null    datetime64[ns]\n",
      " 7   Performance Score  841 non-null    float64       \n",
      " 8   Experience         841 non-null    int64         \n",
      " 9   Status             841 non-null    string        \n",
      " 10  Location           841 non-null    string        \n",
      " 11  Session            841 non-null    string        \n",
      " 12  Age_Group          841 non-null    object        \n",
      " 13  Experience_Level   841 non-null    object        \n",
      "dtypes: datetime64[ns](1), float64(1), int64(4), object(2), string(6)\n",
      "memory usage: 98.6+ KB\n"
     ]
    }
   ],
   "source": [
    "df.info()"
   ]
  },
  {
   "cell_type": "code",
   "execution_count": 22,
   "id": "7c2b8cc3-900c-4ec7-8569-530f1992e213",
   "metadata": {},
   "outputs": [
    {
     "data": {
      "text/plain": [
       "0"
      ]
     },
     "execution_count": 22,
     "metadata": {},
     "output_type": "execute_result"
    }
   ],
   "source": [
    "df.duplicated().sum()"
   ]
  },
  {
   "cell_type": "code",
   "execution_count": 23,
   "id": "d12a466e-b525-4d6a-8744-fc5e83f70d47",
   "metadata": {},
   "outputs": [
    {
     "data": {
      "text/plain": [
       "ID                   0\n",
       "Name                 0\n",
       "Age                  0\n",
       "Gender               0\n",
       "Department           0\n",
       "Salary               0\n",
       "Joining Date         0\n",
       "Performance Score    0\n",
       "Experience           0\n",
       "Status               0\n",
       "Location             0\n",
       "Session              0\n",
       "Age_Group            0\n",
       "Experience_Level     0\n",
       "dtype: int64"
      ]
     },
     "execution_count": 23,
     "metadata": {},
     "output_type": "execute_result"
    }
   ],
   "source": [
    "df.isna().sum()"
   ]
  },
  {
   "cell_type": "code",
   "execution_count": 24,
   "id": "8aaa2c1f-7c77-404e-a0fc-711e31861bdf",
   "metadata": {},
   "outputs": [
    {
     "data": {
      "text/plain": [
       "(841, 14)"
      ]
     },
     "execution_count": 24,
     "metadata": {},
     "output_type": "execute_result"
    }
   ],
   "source": [
    "df.shape"
   ]
  },
  {
   "cell_type": "markdown",
   "id": "ea5db1f3-60eb-48f9-9a2a-04c84e6fb9e9",
   "metadata": {},
   "source": [
    "## Salvando o Conjunto de Dados após o ETL"
   ]
  },
  {
   "cell_type": "code",
   "execution_count": 25,
   "id": "4fa8f70e-7a59-4b99-87f6-cdcf11db746a",
   "metadata": {},
   "outputs": [],
   "source": [
    "df.to_csv('Dataset_Performance_Funcionarios.csv', index=False)"
   ]
  },
  {
   "cell_type": "markdown",
   "id": "03f8973b-e8f9-4beb-9011-7e2e107dd80a",
   "metadata": {},
   "source": [
    "# Obrigado!"
   ]
  }
 ],
 "metadata": {
  "kernelspec": {
   "display_name": "Python 3 (ipykernel)",
   "language": "python",
   "name": "python3"
  },
  "language_info": {
   "codemirror_mode": {
    "name": "ipython",
    "version": 3
   },
   "file_extension": ".py",
   "mimetype": "text/x-python",
   "name": "python",
   "nbconvert_exporter": "python",
   "pygments_lexer": "ipython3",
   "version": "3.12.7"
  }
 },
 "nbformat": 4,
 "nbformat_minor": 5
}
